{
 "cells": [
  {
   "cell_type": "code",
   "execution_count": null,
   "metadata": {},
   "outputs": [],
   "source": [
    "def finder(x,y):\n",
    "    return analyzer(x,y)\n",
    "    \n",
    "    x=x**n\n",
    "    y=y**n\n",
    "    z=z**n\n",
    "    x+y==z\n",
    "    print(z)\n",
    "\n",
    "finder(12,10)\n",
    "    "
   ]
  },
  {
   "cell_type": "code",
   "execution_count": null,
   "metadata": {},
   "outputs": [],
   "source": [
    "\n",
    "def upper_limit_for_k():\n",
    "    if 10<k<=70:\n",
    "        print(\"That's a good value is below the upper limit of k\")\n",
    "        return True\n",
    "    else:\n",
    "        print(\"The value you entered is greater than 70 which is the upper limit\")\n",
    "        print(\"Try again another value of k\")\n",
    "        "
   ]
  },
  {
   "cell_type": "code",
   "execution_count": null,
   "metadata": {},
   "outputs": [],
   "source": [
    "def search(n,k):\n",
    "    return upper_limit_for_k()\n",
    "    return(n,k)\n",
    "n=int(input(\"Enter the value of n\"))\n",
    "k=int(input(\"Enterthe value of k\"))"
   ]
  },
  {
   "cell_type": "code",
   "execution_count": null,
   "metadata": {},
   "outputs": [],
   "source": [
    "\n",
    "def analyzer(x,y):\n",
    "    return search(n,k)\n",
    "    for x,y in range(100):\n",
    "        while x>=10 and x<=k: \n",
    "            return True\n",
    "        while y>=10 and y<=k:\n",
    "            return True\n",
    "        while n>2 and n<12:\n",
    "            return True\n",
    "analyzer(10,12)\n",
    "             "
   ]
  },
  {
   "cell_type": "code",
   "execution_count": null,
   "metadata": {},
   "outputs": [],
   "source": [
    "def fixer_1():\n",
    "    return analyzer(x,y)\n",
    "    x=x**n\n",
    "    y=y**n\n",
    "    z=z**n\n",
    "    return x+y<z\n",
    "\n",
    "    "
   ]
  },
  {
   "cell_type": "code",
   "execution_count": null,
   "metadata": {},
   "outputs": [],
   "source": [
    "def fixer_2():\n",
    "    return analyzer(x,y)\n",
    "    x=x**n\n",
    "    y=y**n\n",
    "    z=z**n\n",
    "    return x+y>z"
   ]
  },
  {
   "cell_type": "code",
   "execution_count": null,
   "metadata": {},
   "outputs": [],
   "source": [
    "def near_misses_finder():\n",
    "    fixer_2()\n",
    "    fixer_1()\n",
    "    return \" near misses\"\n",
    "    \n",
    "    "
   ]
  },
  {
   "cell_type": "code",
   "execution_count": null,
   "metadata": {},
   "outputs": [],
   "source": [
    "def almost_right():\n",
    "    return finder()\n",
    "    return \"almost right\"\n",
    "    "
   ]
  },
  {
   "cell_type": "code",
   "execution_count": null,
   "metadata": {},
   "outputs": [],
   "source": [
    "# find almost right answers\n",
    "def parent():\n",
    "    return almost_right()\n",
    "    print(\"you have done  all\")\n",
    "    \n",
    "parent()   "
   ]
  },
  {
   "cell_type": "code",
   "execution_count": null,
   "metadata": {},
   "outputs": [],
   "source": [
    "def value_of_z():\n",
    "    for z in range(20):\n",
    "        return z\n",
    "    return z+1\n",
    "value_of_z()"
   ]
  },
  {
   "cell_type": "code",
   "execution_count": null,
   "metadata": {},
   "outputs": [],
   "source": []
  }
 ],
 "metadata": {
  "kernelspec": {
   "display_name": "Python 3 (ipykernel)",
   "language": "python",
   "name": "python3"
  },
  "language_info": {
   "codemirror_mode": {
    "name": "ipython",
    "version": 3
   },
   "file_extension": ".py",
   "mimetype": "text/x-python",
   "name": "python",
   "nbconvert_exporter": "python",
   "pygments_lexer": "ipython3",
   "version": "3.10.0"
  }
 },
 "nbformat": 4,
 "nbformat_minor": 4
}
